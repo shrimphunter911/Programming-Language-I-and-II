{
 "cells": [
  {
   "cell_type": "code",
   "execution_count": 1,
   "metadata": {},
   "outputs": [
    {
     "name": "stdout",
     "output_type": "stream",
     "text": [
      "0.5\n"
     ]
    }
   ],
   "source": [
    "#Easy-1\n",
    "def my_fx(n,d):\n",
    "    if d>0 and n>0:\n",
    "        return n/d - n//d\n",
    "    else:\n",
    "        return 0\n",
    "print(my_fx(5,2))"
   ]
  },
  {
   "cell_type": "code",
   "execution_count": 2,
   "metadata": {},
   "outputs": [
    {
     "name": "stdout",
     "output_type": "stream",
     "text": [
      "Score is  20.775623268698062 Normal\n"
     ]
    }
   ],
   "source": [
    "#Easy-2\n",
    "def fatty(h,w):\n",
    "    h=h/100\n",
    "    bmi=(w/h**2)\n",
    "    if bmi<18.5:\n",
    "        print(\"Score is \",bmi,\"Underweight\")\n",
    "    elif bmi>=18.5 and bmi<=24.9:\n",
    "        print(\"Score is \",bmi,\"Normal\")\n",
    "    elif bmi>=25 and bmi<=30:\n",
    "        print(\"Score is \",bmi,\"Overweight\")\n",
    "    else:\n",
    "        print(\"Score is \",bmi,\"Obese\")\n",
    "fatty(152,48)"
   ]
  },
  {
   "cell_type": "code",
   "execution_count": 3,
   "metadata": {},
   "outputs": [
    {
     "data": {
      "text/plain": [
       "20"
      ]
     },
     "execution_count": 3,
     "metadata": {},
     "output_type": "execute_result"
    }
   ],
   "source": [
    "#Easy-3\n",
    "def divisible(a,b,n):\n",
    "    sum=0\n",
    "    for x in range (a,b):\n",
    "        if x%n==0:\n",
    "            sum=sum+x\n",
    "    return sum\n",
    "divisible(0,10,2)"
   ]
  },
  {
   "cell_type": "code",
   "execution_count": 3,
   "metadata": {},
   "outputs": [
    {
     "name": "stdout",
     "output_type": "stream",
     "text": [
      "243.6\n"
     ]
    }
   ],
   "source": [
    "#Medium-1\n",
    "def cheese(burger, place='Mohakhali'):\n",
    "    if burger=='BBQ Chicken Cheese Burger':\n",
    "        s=250+(250*8)/100\n",
    "    elif burger=='Beef Burger':\n",
    "        s=170+(170*8)/100\n",
    "    else:\n",
    "        s=200+(200*8)/100\n",
    "    if place=='Mohakhali':\n",
    "        print(s+40)\n",
    "    else:\n",
    "        print(s+60)\n",
    "cheese('Beef Burger','Dhanmondi')"
   ]
  },
  {
   "cell_type": "code",
   "execution_count": 5,
   "metadata": {},
   "outputs": [
    {
     "name": "stdout",
     "output_type": "stream",
     "text": [
      "bob@sheba.xyz\n"
     ]
    }
   ],
   "source": [
    "#Medium-2\n",
    "def replace_domain(email,new,old='kaaj.com'):\n",
    "    emailarr=email.split('@')\n",
    "    if emailarr[1]==old:\n",
    "        emailarr[1]=new\n",
    "    emailarr.insert(1,\"@\")\n",
    "    email=''.join(emailarr)\n",
    "    print(email)\n",
    "replace_domain('bob@sheba.xyz','sheba.xyz')"
   ]
  },
  {
   "cell_type": "code",
   "execution_count": 6,
   "metadata": {},
   "outputs": [
    {
     "name": "stdout",
     "output_type": "stream",
     "text": [
      "Vowels:  ['e', 'e', 'o']\n",
      "Total number of vowels:  3\n"
     ]
    }
   ],
   "source": [
    "#Medium-3\n",
    "def vowelfind(name):\n",
    "    vowels=\"AaEeIiOoUu\"\n",
    "    v=[each for each in name if each in vowels]\n",
    "    if len(v)>0:\n",
    "        print(\"Vowels: \",v)\n",
    "        print(\"Total number of vowels: \", len(v))\n",
    "    else:\n",
    "        print(\"No vowels in the name\")\n",
    "vowelfind(\"Steve Jobs\")"
   ]
  },
  {
   "cell_type": "code",
   "execution_count": 7,
   "metadata": {},
   "outputs": [
    {
     "name": "stdout",
     "output_type": "stream",
     "text": [
      "Palindrome\n"
     ]
    }
   ],
   "source": [
    "#Medium-4\n",
    "def palindrome(input):\n",
    "    q=input.replace(\" \",\"\")\n",
    "    p=q[::-1]\n",
    "    if p==q:\n",
    "        print(\"Palindrome\")\n",
    "    else:\n",
    "        print(\"Not palindrome\")\n",
    "palindrome(\"nurses run\")"
   ]
  },
  {
   "cell_type": "code",
   "execution_count": 8,
   "metadata": {},
   "outputs": [
    {
     "name": "stdout",
     "output_type": "stream",
     "text": [
      "Alice: 2000, Bob: 22500 "
     ]
    }
   ],
   "source": [
    "#Hard-1\n",
    "from datetime import datetime\n",
    "n=int(str(datetime.now())[:4])\n",
    "def ext(*args):\n",
    "    arr=[]\n",
    "    def bonus(name,salary,date):\n",
    "        date=int(date[:4])\n",
    "        y=n-date\n",
    "        if y<5:\n",
    "            s=salary*10/100\n",
    "        elif y>=5 and y<=10:\n",
    "            s=salary*10/100+5000\n",
    "        else:\n",
    "            s=salary*15/100+15000\n",
    "        t=name+': '+str(int(s))\n",
    "        return t\n",
    "    for i in range(0,len(args)):\n",
    "        arr.append(bonus(args[i][0],args[i][1],args[i][2]))\n",
    "    for i in range(len(arr)):\n",
    "        if arr[i]==arr[len(arr)-1]:\n",
    "            print(arr[i],end=' ')\n",
    "        else:\n",
    "            print(arr[i],end=', ')\n",
    "ext(('Alice', 20000, '2017-03-21'),('Bob', 50000, '2007-05-10'))"
   ]
  },
  {
   "cell_type": "code",
   "execution_count": 2,
   "metadata": {},
   "outputs": [
    {
     "name": "stdout",
     "output_type": "stream",
     "text": [
      "10  Years,  11  Months,  20  Days\n"
     ]
    }
   ],
   "source": [
    "#Hard-2\n",
    "def calc(x):\n",
    "    y=x//365\n",
    "    r=x%365\n",
    "    m=r//30\n",
    "    d=r%30\n",
    "    print(y,\" Years, \",m,\" Months, \",d,\" Days\")\n",
    "calc(4000)"
   ]
  },
  {
   "cell_type": "code",
   "execution_count": 1,
   "metadata": {},
   "outputs": [
    {
     "name": "stdout",
     "output_type": "stream",
     "text": [
      "Cm punk is the best in the world. He is my favorite wrestler.\n"
     ]
    }
   ],
   "source": [
    "#Hard-3\n",
    "def pn_grammar(txt):\n",
    "    requiredArray = []\n",
    "    punctuation = ['.', '!', '?']\n",
    "    length = len(txt)\n",
    "    newSen = ''\n",
    "\n",
    "    for char in txt:\n",
    "        requiredArray.append(char)\n",
    "    for i in range(0,length-1):\n",
    "        if requiredArray[0].islower():\n",
    "            requiredArray[0] = requiredArray[0].upper()\n",
    "        if requiredArray[-1] in punctuation:\n",
    "            pass\n",
    "        if requiredArray[i] in punctuation:\n",
    "            requiredArray[i+2] = requiredArray[i+2].upper()\n",
    "        if requiredArray[i] == 'i':\n",
    "            if requiredArray[i-1] == ' ' and requiredArray[i+1] == ' ':\n",
    "                requiredArray[i] = requiredArray[i].upper()\n",
    "    for char in requiredArray:\n",
    "        newSen += char\n",
    "    print(newSen)\n",
    "pn_grammar('cm punk is the best in the world. he is my favorite wrestler.')"
   ]
  },
  {
   "cell_type": "code",
   "execution_count": null,
   "metadata": {},
   "outputs": [],
   "source": []
  }
 ],
 "metadata": {
  "kernelspec": {
   "display_name": "Python 3",
   "language": "python",
   "name": "python3"
  },
  "language_info": {
   "codemirror_mode": {
    "name": "ipython",
    "version": 3
   },
   "file_extension": ".py",
   "mimetype": "text/x-python",
   "name": "python",
   "nbconvert_exporter": "python",
   "pygments_lexer": "ipython3",
   "version": "3.7.6"
  }
 },
 "nbformat": 4,
 "nbformat_minor": 4
}
