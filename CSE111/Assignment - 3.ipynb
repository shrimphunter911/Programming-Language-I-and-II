{
 "cells": [
  {
   "cell_type": "code",
   "execution_count": 9,
   "metadata": {},
   "outputs": [
    {
     "name": "stdout",
     "output_type": "stream",
     "text": [
      "Enter a stringapple\n",
      "ppl2\n"
     ]
    }
   ],
   "source": [
    "#Easy-1\n",
    "str=input('Enter a string')\n",
    "string=str.lower()\n",
    "vow='aeiou'\n",
    "l=[each for each in string if each in vow]\n",
    "l=len(l)\n",
    "vowels=('a', 'e', 'i', 'o', 'u')\n",
    "for i in string:\n",
    "    if i in vowels:\n",
    "        string=string.replace(i,\"\")\n",
    "print(string,l,sep='')"
   ]
  },
  {
   "cell_type": "code",
   "execution_count": 1,
   "metadata": {},
   "outputs": [
    {
     "name": "stdout",
     "output_type": "stream",
     "text": [
      "Enter a string = abcba\n",
      "True\n"
     ]
    }
   ],
   "source": [
    "#Easy-2\n",
    "str=input('Enter a string = ')\n",
    "str=str.replace(' ', '')\n",
    "string=str[::-1]\n",
    "if string==str:\n",
    "    print(\"True\")\n",
    "else:\n",
    "    print(\"False\")"
   ]
  },
  {
   "cell_type": "code",
   "execution_count": 3,
   "metadata": {},
   "outputs": [
    {
     "name": "stdout",
     "output_type": "stream",
     "text": [
      "Enter a string: tactful\n",
      "tactfully\n"
     ]
    }
   ],
   "source": [
    "#Easy-3\n",
    "str=input('Enter a string: ')\n",
    "if len(str)>3:\n",
    "    if str.endswith('ful'):\n",
    "        str=str+'ly'\n",
    "    else:\n",
    "        str=str+'ful'\n",
    "print(str)"
   ]
  },
  {
   "cell_type": "code",
   "execution_count": 8,
   "metadata": {},
   "outputs": [
    {
     "name": "stdout",
     "output_type": "stream",
     "text": [
      "Enter a string: ApplE\n",
      "apple\n"
     ]
    }
   ],
   "source": [
    "#Medium-1\n",
    "str=input('Enter a string: ')\n",
    "low=0\n",
    "up=0\n",
    "for i in str:\n",
    "    if ord(i)>=97 and ord(i)<=122:\n",
    "        low += 1\n",
    "    elif ord(i)>=65 and ord(i)<=90:\n",
    "        up += 1\n",
    "if up>low:\n",
    "    str=str.upper()\n",
    "else:\n",
    "    str=str.lower()\n",
    "print(str)"
   ]
  },
  {
   "cell_type": "code",
   "execution_count": 11,
   "metadata": {},
   "outputs": [
    {
     "name": "stdout",
     "output_type": "stream",
     "text": [
      "Enter a string: Hello\n",
      "WORD\n"
     ]
    }
   ],
   "source": [
    "#Medium-2\n",
    "str=input('Enter a string: ')\n",
    "num=0\n",
    "for i in str:\n",
    "    if i>='0' and i<='9':\n",
    "        num += 1\n",
    "if num==len(str):\n",
    "    print('NUMBER')\n",
    "elif num==0:\n",
    "    print('WORD')\n",
    "else:\n",
    "    print('MIXED')"
   ]
  },
  {
   "cell_type": "code",
   "execution_count": 18,
   "metadata": {},
   "outputs": [
    {
     "name": "stdout",
     "output_type": "stream",
     "text": [
      "Enter a string: baNgladEsh\n",
      "glad\n"
     ]
    }
   ],
   "source": [
    "#Medium-3\n",
    "str=input('Enter a string: ')\n",
    "count=0\n",
    "start=0\n",
    "end=0\n",
    "for i in range(len(str)):\n",
    "    if str[i]>='A' and str[i]<='Z':\n",
    "        count += 1\n",
    "        if count<3:\n",
    "            if count==1:\n",
    "                start=i\n",
    "            elif count==2:\n",
    "                end=i\n",
    "if end-start==1:\n",
    "    print('BLANK')\n",
    "else:\n",
    "    print(str[start+1:end])"
   ]
  },
  {
   "cell_type": "code",
   "execution_count": 22,
   "metadata": {},
   "outputs": [
    {
     "name": "stdout",
     "output_type": "stream",
     "text": [
      "Enter a string: The book is not too good!\n",
      "The book is not excellent!\n"
     ]
    }
   ],
   "source": [
    "#Medium-4\n",
    "str=input('Enter a string: ')\n",
    "if 'too good' in str:\n",
    "    str=str.replace('too good', 'excellent')\n",
    "print(str)"
   ]
  },
  {
   "cell_type": "code",
   "execution_count": 26,
   "metadata": {},
   "outputs": [
    {
     "name": "stdout",
     "output_type": "stream",
     "text": [
      "Enter a string: dean\n",
      "Enter another string: tom\n",
      "Nothing in common\n"
     ]
    }
   ],
   "source": [
    "#Hard-1\n",
    "str=input('Enter a string: ')\n",
    "string=input('Enter another string: ')\n",
    "s=''\n",
    "for i in str:\n",
    "    if i in string:\n",
    "        s=s+i\n",
    "for j in string:\n",
    "    if j in str:\n",
    "        s=s+j\n",
    "if s=='':\n",
    "    print('Nothing in common')\n",
    "else:\n",
    "    print(s)"
   ]
  },
  {
   "cell_type": "code",
   "execution_count": 6,
   "metadata": {},
   "outputs": [
    {
     "name": "stdout",
     "output_type": "stream",
     "text": [
      "Enter a string: fixprefixsuffix\n",
      "fix\n"
     ]
    }
   ],
   "source": [
    "#Hard-2\n",
    "str=input('Enter a string: ')\n",
    "l=len(str)\n",
    "start=str[0:3]\n",
    "end=str[l-3:l:1]\n",
    "n=''\n",
    "if(start==end):\n",
    "    for letter in str[3:l-3]:\n",
    "        n += letter\n",
    "    if(start in n):\n",
    "        print(start)\n",
    "    else:\n",
    "        print('Not Palindrome substring')\n",
    "else:\n",
    "    print('Not Palindrome substring')"
   ]
  },
  {
   "cell_type": "code",
   "execution_count": 16,
   "metadata": {},
   "outputs": [
    {
     "name": "stdout",
     "output_type": "stream",
     "text": [
      "Enter a password: ohMyBR@CU\n",
      "Digit missing\n"
     ]
    }
   ],
   "source": [
    "#Hard-3\n",
    "password=input('Enter a password: ')\n",
    "dC=0\n",
    "lC=0\n",
    "uC=0\n",
    "sC=0\n",
    "sList=['','$','#','@']\n",
    "l=len(password)\n",
    "for letter in password[0:l]:\n",
    "    if letter.isdigit():\n",
    "        dC += 1\n",
    "    if letter.islower():\n",
    "        lC += 1\n",
    "    if letter.isupper():\n",
    "        uC += 1\n",
    "    if letter in sList:\n",
    "        sC += 1\n",
    "\n",
    "if (sC==0):\n",
    "    print(\"Special character missing\",end=', ')\n",
    "if (uC==0):\n",
    "    print(\"Uppercase missing\",end=', ')\n",
    "if (lC==0):\n",
    "    print(\"Lowercase missing\",end=', ')\n",
    "if (dC==0):\n",
    "    print(\"Digit missing\")\n",
    "if (dC>0) and (lC>0) and (uC>0) and (sC>0):\n",
    "    print('OK')"
   ]
  },
  {
   "cell_type": "code",
   "execution_count": null,
   "metadata": {},
   "outputs": [],
   "source": []
  }
 ],
 "metadata": {
  "kernelspec": {
   "display_name": "Python 3",
   "language": "python",
   "name": "python3"
  },
  "language_info": {
   "codemirror_mode": {
    "name": "ipython",
    "version": 3
   },
   "file_extension": ".py",
   "mimetype": "text/x-python",
   "name": "python",
   "nbconvert_exporter": "python",
   "pygments_lexer": "ipython3",
   "version": "3.7.6"
  }
 },
 "nbformat": 4,
 "nbformat_minor": 4
}
