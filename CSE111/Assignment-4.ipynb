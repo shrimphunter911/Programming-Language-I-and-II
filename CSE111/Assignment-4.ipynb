{
 "cells": [
  {
   "cell_type": "code",
   "execution_count": 1,
   "metadata": {},
   "outputs": [
    {
     "name": "stdout",
     "output_type": "stream",
     "text": [
      "Please enter a number: 1\n",
      "Please enter a number: 2\n",
      "Please enter a number: 3\n",
      "Please enter a number: 4\n",
      "Please enter a number: 5\n",
      "Please enter a number: 6\n",
      "Please enter a number: 7\n",
      "Please enter a number: 8\n",
      "Please enter a number: 9\n",
      "Please enter a number: 10\n",
      "[10, 9, 8, 7, 6, 5, 4, 3, 2, 1]\n"
     ]
    }
   ],
   "source": [
    "#EASY-1\n",
    "n= []\n",
    "for i in range (10):\n",
    "    r= int (input (\"Please enter a number: \"))\n",
    "    n.append (r)\n",
    "n= n [::-1]\n",
    "print (n)"
   ]
  },
  {
   "cell_type": "code",
   "execution_count": 2,
   "metadata": {},
   "outputs": [
    {
     "name": "stdout",
     "output_type": "stream",
     "text": [
      "Please enter a list of numbers: 11,12,3,4,5,1\n",
      "Please enter another list of numbers: 23,4,56\n",
      "[11, 12, 3, 4, 5, 23, 4, 56]\n"
     ]
    }
   ],
   "source": [
    "#EASY-2\n",
    "n1= input (\"Please enter a list of numbers: \")\n",
    "n2= input (\"Please enter another list of numbers: \")\n",
    "n1= n1.split (\",\")\n",
    "n2= n2.split (\",\")\n",
    "for i in range (len (n1)):\n",
    "    n1 [i]= int (n1 [i])\n",
    "for j in range (len (n2)):\n",
    "    n2 [j]= int (n2 [j])\n",
    "n1.pop()\n",
    "final= n1+n2\n",
    "print (final)"
   ]
  },
  {
   "cell_type": "code",
   "execution_count": 3,
   "metadata": {},
   "outputs": [
    {
     "name": "stdout",
     "output_type": "stream",
     "text": [
      "Please enter a number: 1\n",
      "Please enter a number: 1\n",
      "Please enter another number: 2\n",
      "Please enter a number: 3\n",
      "Please enter a number: 4\n",
      "Please enter a number: 5\n",
      "Please enter a number: 6\n",
      "Please enter a number: 7\n",
      "Please enter a number: 8\n",
      "Please enter a number: 7\n",
      "Please enter another number: 8\n",
      "Please enter another number: 78\n",
      "Please enter a number: 89\n",
      "[1, 2, 3, 4, 5, 6, 7, 8, 78, 89]\n"
     ]
    }
   ],
   "source": [
    "#EASY-3\n",
    "num= []\n",
    "for i in range (10):\n",
    "    n= int (input (\"Please enter a number: \"))\n",
    "    while n in num:\n",
    "        n=int(input(\"Please enter another number: \"))\n",
    "    num.append (n)\n",
    "print (num)"
   ]
  },
  {
   "cell_type": "code",
   "execution_count": 4,
   "metadata": {},
   "outputs": [
    {
     "name": "stdout",
     "output_type": "stream",
     "text": [
      "Enter numbers: 10\n",
      "10  -  1\n",
      "Enter numbers: 20\n",
      "10  -  1\n",
      "20  -  1\n",
      "Enter numbers: 20\n",
      "10  -  1\n",
      "20  -  2\n",
      "Enter numbers: 30\n",
      "10  -  1\n",
      "20  -  2\n",
      "30  -  1\n",
      "Enter numbers: STOP\n"
     ]
    }
   ],
   "source": [
    "#MEDIUM-1\n",
    "list= []\n",
    "while True:\n",
    "    n= input (\"Enter numbers: \")\n",
    "    if (n== 'STOP'):\n",
    "        break\n",
    "    else:\n",
    "        list.append (n)\n",
    "    for i in range (len (list)):\n",
    "        if list [i] not in list [:i]:\n",
    "            print (str (list [i]), \" - \", str (list.count (list [i])))\n",
    "        else:\n",
    "            continue"
   ]
  },
  {
   "cell_type": "code",
   "execution_count": 5,
   "metadata": {},
   "outputs": [
    {
     "name": "stdout",
     "output_type": "stream",
     "text": [
      "Please enter the total list number: 4\n",
      "Please enter a number for list-  1 : \n",
      "Enter a number: 1\n",
      "Enter a number: 2\n",
      "Enter a number: 3\n",
      "Please enter a number for list-  2 : \n",
      "Enter a number: 231\n",
      "Enter a number: 4\n",
      "Enter a number: 3\n",
      "Please enter a number for list-  3 : \n",
      "Enter a number: 44\n",
      "Enter a number: 211\n",
      "Enter a number: 3\n",
      "Please enter a number for list-  4 : \n",
      "Enter a number: 3\n",
      "Enter a number: 35\n",
      "Enter a number: 23\n",
      "258\n",
      "[44, 211, 3]\n"
     ]
    }
   ],
   "source": [
    "#MEDIUM-2\n",
    "n= int (input (\"Please enter the total list number: \"))\n",
    "list1= []\n",
    "for i in range (1, n+1):\n",
    "    list2= []\n",
    "    print (\"Please enter a number for list- \", str (i), \": \")\n",
    "    for j in range (3):\n",
    "        list2.append (int (input (\"Enter a number: \")))\n",
    "    if sum (list2)> sum (list1):\n",
    "        list1= list2\n",
    "print (sum (list1))\n",
    "print (list1)"
   ]
  },
  {
   "cell_type": "code",
   "execution_count": 6,
   "metadata": {},
   "outputs": [
    {
     "name": "stdout",
     "output_type": "stream",
     "text": [
      "[6, 8, 10, 9, 12, 15, 18, 24, 30]\n"
     ]
    }
   ],
   "source": [
    "#MEDIUM-3\n",
    "def cross (list1,list2):\n",
    "    multi= []\n",
    "    for i in list1:\n",
    "        for j in list2:\n",
    "            multi.append (i*j)\n",
    "    print (multi)\n",
    "cross ([2,3,6], [3,4,5])"
   ]
  },
  {
   "cell_type": "code",
   "execution_count": 7,
   "metadata": {},
   "outputs": [
    {
     "name": "stdout",
     "output_type": "stream",
     "text": [
      "Please enter the number of lists: 3\n",
      "Please enter the elements: a,b,c,d,e,f,g,h,i,j,k,l,m,n\n",
      "[['a', 'd', 'g', 'j', 'm'], ['b', 'e', 'h', 'k', 'n'], ['c', 'f', 'i', 'l']]\n"
     ]
    }
   ],
   "source": [
    "#MEDIUM-4\n",
    "n= int (input (\"Please enter the number of lists: \"))\n",
    "num= input (\"Please enter the elements: \")\n",
    "list1= num.split (\",\")\n",
    "list2= []\n",
    "for i in range (n):\n",
    "    temp= list1 [i::n]\n",
    "    list2.append (temp)\n",
    "print (list2)"
   ]
  },
  {
   "cell_type": "code",
   "execution_count": 8,
   "metadata": {},
   "outputs": [
    {
     "name": "stdout",
     "output_type": "stream",
     "text": [
      "Please enter the length of the list: 4\n",
      "Please enter the element: 1\n",
      "Please enter the element: 4\n",
      "Please enter the element: 2\n",
      "Please enter the element: 3\n",
      "UB Jumper\n",
      "Please enter the length of the list: STOP\n"
     ]
    }
   ],
   "source": [
    "#HARD-1\n",
    "while True:\n",
    "    n= input(\"Please enter the length of the list: \")\n",
    "    if n== \"STOP\" :\n",
    "        break\n",
    "    n= int (n)\n",
    "    num= []\n",
    "    for i in range (n):\n",
    "        num.append (int (input (\"Please enter the element: \")))\n",
    "    dif= []\n",
    "    for j in range (1, len (num)):\n",
    "        dif.append (abs (num [j-1]-num [j]))\n",
    "    dif.sort ()\n",
    "    s= \"\"\n",
    "    for k in range (len (dif)):\n",
    "        if (dif [k]== k+1):\n",
    "            s= \"UB Jumper\"\n",
    "        else:\n",
    "            s= \"Not UB Jumper\"\n",
    "            break\n",
    "    print (s)"
   ]
  },
  {
   "cell_type": "code",
   "execution_count": 9,
   "metadata": {},
   "outputs": [
    {
     "name": "stdout",
     "output_type": "stream",
     "text": [
      "Bracu1234\n",
      "acruB1324\n"
     ]
    }
   ],
   "source": [
    "#HARD-2\n",
    "string= input ()\n",
    "upList= []\n",
    "lowList= []\n",
    "evenList= []\n",
    "oddList= []\n",
    "for i in range (len (string)):\n",
    "    a= string [i]\n",
    "    if a.isupper ():\n",
    "        upList.append (a)\n",
    "    elif a.islower():\n",
    "        lowList.append (a)\n",
    "    elif a.isnumeric():\n",
    "        a= int (a)\n",
    "        if a%2== 0:\n",
    "            evenList.append (str (a))\n",
    "        else:\n",
    "            oddList.append (str (a))\n",
    "evenList.sort()\n",
    "oddList.sort()\n",
    "upList.sort()\n",
    "lowList.sort()\n",
    "even= ''\n",
    "odd= ''\n",
    "up= ''\n",
    "low= ''\n",
    "for i in range (len (oddList)):\n",
    "    odd+= oddList [i]\n",
    "for i in range (len (evenList)):\n",
    "    even+= evenList [i]\n",
    "for i in range (len (upList)):\n",
    "    up+= upList [i]\n",
    "for i in range (len (lowList)):\n",
    "    low+= lowList [i]\n",
    "final= low+ up+ odd+ even      \n",
    "print (final)"
   ]
  },
  {
   "cell_type": "code",
   "execution_count": 10,
   "metadata": {},
   "outputs": [
    {
     "name": "stdout",
     "output_type": "stream",
     "text": [
      "Please enter the number of participants: 5\n",
      "Please enter the number of comps you want them to play: 2\n",
      "Please enter the number of times each participant has participated: 0\n",
      "Please enter the number of times each participant has participated: 4\n",
      "Please enter the number of times each participant has participated: 5\n",
      "Please enter the number of times each participant has participated: 1\n",
      "Please enter the number of times each participant has participated: 0\n",
      "Possible Teams:  1\n"
     ]
    }
   ],
   "source": [
    "#HARD-3\n",
    "n= int (input (\"Please enter the number of participants: \"))\n",
    "k= int (input (\"Please enter the number of comps you want them to play: \"))\n",
    "comp= []\n",
    "for i in range (n):\n",
    "    comp.append (int (input (\"Please enter the number of times each participant has participated: \")))\n",
    "for i in range (len (comp)):\n",
    "    comp [i]= comp [i]+ k\n",
    "newComp= []\n",
    "for i in range (len (comp)):\n",
    "    if comp [i]<= 5:\n",
    "        newComp.append (i)\n",
    "print (\"Possible Teams: \", (len (newComp)// 3))"
   ]
  },
  {
   "cell_type": "code",
   "execution_count": null,
   "metadata": {},
   "outputs": [],
   "source": []
  }
 ],
 "metadata": {
  "kernelspec": {
   "display_name": "Python 3",
   "language": "python",
   "name": "python3"
  },
  "language_info": {
   "codemirror_mode": {
    "name": "ipython",
    "version": 3
   },
   "file_extension": ".py",
   "mimetype": "text/x-python",
   "name": "python",
   "nbconvert_exporter": "python",
   "pygments_lexer": "ipython3",
   "version": "3.7.6"
  }
 },
 "nbformat": 4,
 "nbformat_minor": 4
}
