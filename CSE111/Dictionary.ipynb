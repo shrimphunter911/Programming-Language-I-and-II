{
  "nbformat": 4,
  "nbformat_minor": 0,
  "metadata": {
    "colab": {
      "provenance": [],
      "collapsed_sections": []
    },
    "kernelspec": {
      "name": "python3",
      "display_name": "Python 3"
    },
    "language_info": {
      "name": "python"
    }
  },
  "cells": [
    {
      "cell_type": "markdown",
      "source": [
        "**Easy 1**"
      ],
      "metadata": {
        "id": "vjpZOCbbMso2"
      }
    },
    {
      "cell_type": "code",
      "source": [
        "d = input(\"Enter first line\\n\").replace(' ', '').split(',')\n",
        "dic = {}\n",
        "for i in d:\n",
        "  dic[i[0]] = int(i[2:])\n",
        "i = 0\n",
        "while i < 1:\n",
        "  inp = (input(\"Enter value: \"))\n",
        "  if inp == 'STOP':\n",
        "    break\n",
        "  else:\n",
        "    print(int(inp) in dic.values())\n",
        "\n",
        "print(dic)"
      ],
      "metadata": {
        "colab": {
          "base_uri": "https://localhost:8080/"
        },
        "id": "LSUOUVvw9FO1",
        "outputId": "79311133-1457-48ff-9635-21e15457bb89"
      },
      "execution_count": 6,
      "outputs": [
        {
          "output_type": "stream",
          "name": "stdout",
          "text": [
            "Enter first line\n",
            "a: 100, b: 200, c: 300, d: 400\n",
            "Enter value: 200\n",
            "True\n",
            "Enter value: 600\n",
            "False\n",
            "Enter value: STOP\n",
            "{'a': 100, 'b': 200, 'c': 300, 'd': 400}\n"
          ]
        }
      ]
    },
    {
      "cell_type": "markdown",
      "source": [
        "**Easy 2**"
      ],
      "metadata": {
        "id": "d9srrJzNefxV"
      }
    },
    {
      "cell_type": "code",
      "source": [
        "d = input(\"Enter first line\\n\").replace(' ', '').split(',')\n",
        "a = []\n",
        "for i in d:\n",
        "  a.append(i.split(':'))\n",
        "\n",
        "dic = {}\n",
        "for i in a:\n",
        "  dic[i[0]] = int(i[1])\n",
        "\n",
        "y = int(a[0][1])\n",
        "for j in dic:\n",
        "  if dic[j] < y:\n",
        "    y = dic[j]\n",
        "\n",
        "for j in dic:\n",
        "  if dic[j] == y:\n",
        "    print('Minimum:', j)\n",
        "\n",
        "x = 0\n",
        "for i in dic:\n",
        "  if dic[i] > x:\n",
        "    x = dic[i]\n",
        "\n",
        "for i in dic:\n",
        "  if dic[i] == x:\n",
        "    print('Maximum:', i)"
      ],
      "metadata": {
        "colab": {
          "base_uri": "https://localhost:8080/"
        },
        "id": "FSk7GfenOG1E",
        "outputId": "c1cdad0c-28ca-493f-c99e-28a072e4d194"
      },
      "execution_count": 13,
      "outputs": [
        {
          "output_type": "stream",
          "name": "stdout",
          "text": [
            "Enter first line\n",
            "Physics: 82, Math : 65,History: 75\n",
            "Minimum: Math\n",
            "Maximum: Physics\n"
          ]
        }
      ]
    },
    {
      "cell_type": "markdown",
      "source": [
        "**Easy 3**"
      ],
      "metadata": {
        "id": "tS-cXcCP-3i4"
      }
    },
    {
      "cell_type": "code",
      "source": [
        "i = 0\n",
        "dic = {}\n",
        "while i < 10:\n",
        "  x = int(input('Enter a number: '))\n",
        "  if x not in dic.values():\n",
        "    dic[i] = x\n",
        "    i += 1\n",
        "  else:\n",
        "    continue\n",
        "print(dic)"
      ],
      "metadata": {
        "colab": {
          "base_uri": "https://localhost:8080/"
        },
        "id": "UP1H1eKX7Eul",
        "outputId": "30ac1467-925e-4e3a-bd53-e5f6107d9f91"
      },
      "execution_count": 14,
      "outputs": [
        {
          "output_type": "stream",
          "name": "stdout",
          "text": [
            "Enter a number: 10\n",
            "Enter a number: 10\n",
            "Enter a number: 20\n",
            "Enter a number: 30\n",
            "Enter a number: 40\n",
            "Enter a number: 50\n",
            "Enter a number: 60\n",
            "Enter a number: 70\n",
            "Enter a number: 80\n",
            "Enter a number: 90\n",
            "Enter a number: 40\n",
            "Enter a number: 50\n",
            "Enter a number: 100\n",
            "{0: 10, 1: 20, 2: 30, 3: 40, 4: 50, 5: 60, 6: 70, 7: 80, 8: 90, 9: 100}\n"
          ]
        }
      ]
    },
    {
      "cell_type": "markdown",
      "source": [
        "**Medium 1**"
      ],
      "metadata": {
        "id": "qCa366PujXoA"
      }
    },
    {
      "cell_type": "code",
      "source": [
        "d1 = input(\"Enter first line\\n\").replace(' ', '').split(',')\n",
        "a1 = []\n",
        "for i in d1:\n",
        "  a1.append(i.split(':'))\n",
        "\n",
        "dic1 = {}\n",
        "for i in a1:\n",
        "  dic1[i[0]] = int(i[1])\n",
        "\n",
        "d2 = input(\"Enter second line\\n\").replace(' ', '').split(',')\n",
        "a2 = []\n",
        "for i in d2:\n",
        "  a2.append(i.split(':'))\n",
        "\n",
        "dic2 = {}\n",
        "for i in a2:\n",
        "  dic2[i[0]] = int(i[1])\n",
        "\n",
        "new_dic = {}\n",
        "for i in dic1:\n",
        "  for j in dic2:\n",
        "    if i == j:\n",
        "      new_dic[i] = dic1[i] + dic2[j]\n",
        "    else:\n",
        "      continue\n",
        "\n",
        "for i in dic1:\n",
        "  if i not in new_dic.keys():\n",
        "    new_dic[i] = dic1[i]\n",
        "  else:\n",
        "    continue\n",
        "\n",
        "for i in dic2:\n",
        "  if i not in new_dic.keys():\n",
        "    new_dic[i] = dic2[i]\n",
        "  else:\n",
        "    continue\n",
        "print(new_dic)\n",
        "\n",
        "li = []\n",
        "for i in new_dic:\n",
        "  if new_dic[i] not in li:\n",
        "    li.append(new_dic[i])\n",
        "  else:\n",
        "    continue\n",
        "li.sort()\n",
        "print(tuple(li))"
      ],
      "metadata": {
        "colab": {
          "base_uri": "https://localhost:8080/"
        },
        "id": "7NERT5-t_0U3",
        "outputId": "b89a556d-0452-4c05-8f8e-f44f1299504f"
      },
      "execution_count": 15,
      "outputs": [
        {
          "output_type": "stream",
          "name": "stdout",
          "text": [
            "Enter first line\n",
            "a: 100, b: 100, c: 200, d: 300\n",
            "Enter second line\n",
            "a: 300, b: 200, d: 400, e: 200\n",
            "{'a': 400, 'b': 300, 'd': 700, 'c': 200, 'e': 200}\n",
            "(200, 300, 400, 700)\n"
          ]
        }
      ]
    },
    {
      "cell_type": "markdown",
      "source": [
        "**Medium 2**"
      ],
      "metadata": {
        "id": "vwT7wZHaXM7i"
      }
    },
    {
      "cell_type": "code",
      "source": [
        "i = 0\n",
        "dic = {}\n",
        "while i < 1:\n",
        "  x = (input('Enter a number: '))\n",
        "  if x == \"STOP\":\n",
        "    break\n",
        "  elif x in dic.keys():\n",
        "    dic[x] = dic[x]+1\n",
        "  else:\n",
        "    dic[x] = 1\n",
        "\n",
        "for i, j in dic.items():\n",
        "  print(i, '-', j, 'times')"
      ],
      "metadata": {
        "colab": {
          "base_uri": "https://localhost:8080/"
        },
        "id": "uYJZ8n71Oxgv",
        "outputId": "4b71b162-2fda-49e7-8694-ae8062c9be74"
      },
      "execution_count": 16,
      "outputs": [
        {
          "output_type": "stream",
          "name": "stdout",
          "text": [
            "Enter a number: 10\n",
            "Enter a number: 20\n",
            "Enter a number: 20\n",
            "Enter a number: 30\n",
            "Enter a number: 10\n",
            "Enter a number: 50\n",
            "Enter a number: 90\n",
            "Enter a number: STOP\n",
            "10 - 2 times\n",
            "20 - 2 times\n",
            "30 - 1 times\n",
            "50 - 1 times\n",
            "90 - 1 times\n"
          ]
        }
      ]
    },
    {
      "cell_type": "markdown",
      "source": [
        "**Medium 3**"
      ],
      "metadata": {
        "id": "n_2woB-w74wA"
      }
    },
    {
      "cell_type": "code",
      "source": [
        "d = input(\"Enter dictionary\\n\").replace(' ', '').split(',')\n",
        "a = []\n",
        "for i in d:\n",
        "  a.append(i.split(':'))\n",
        "\n",
        "dic = {}\n",
        "for i in a:\n",
        "  dic[i[0]] = (i[1])\n",
        "\n",
        "print(dic)\n",
        "\n",
        "new_dic = {}\n",
        "for i in dic:\n",
        "  if dic[i] not in new_dic.keys():\n",
        "    new_dic[(dic[i])] = []\n",
        "    new_dic[(dic[i])].append(i)\n",
        "  else:\n",
        "    new_dic[(dic[i])].append(i)\n",
        "\n",
        "print(new_dic)"
      ],
      "metadata": {
        "colab": {
          "base_uri": "https://localhost:8080/"
        },
        "id": "KwPyZG01vjDy",
        "outputId": "af4b80d2-f689-47e0-feb9-b5d016cb7295"
      },
      "execution_count": 17,
      "outputs": [
        {
          "output_type": "stream",
          "name": "stdout",
          "text": [
            "Enter dictionary\n",
            "key1 : value1, key2 : value2, key3 : value1\n",
            "{'key1': 'value1', 'key2': 'value2', 'key3': 'value1'}\n",
            "{'value1': ['key1', 'key3'], 'value2': ['key2']}\n"
          ]
        }
      ]
    },
    {
      "cell_type": "markdown",
      "source": [
        "**Hard 1**"
      ],
      "metadata": {
        "id": "KmOieMfqNAgC"
      }
    },
    {
      "cell_type": "code",
      "source": [
        "w1 = input(\"Enter word: \")\n",
        "w2 = input(\"Enter another word: \")\n",
        "d1 = {}\n",
        "d2 = {}\n",
        "for i in range(len(w1)):\n",
        "  d1[i] = w1[i]\n",
        "for j in range(len(w2)):\n",
        "  d2[j] = w2[j]\n",
        "c = 0\n",
        "for i in d1:\n",
        "  if d1[i] not in d2.values():\n",
        "    break\n",
        "  else:\n",
        "    c += 1\n",
        "if c == len(w1):\n",
        "  print(\"Those strings are anagrams.\")\n",
        "else:\n",
        "  print(\"Not anagrams\")"
      ],
      "metadata": {
        "colab": {
          "base_uri": "https://localhost:8080/"
        },
        "id": "vlWtstu4EpkF",
        "outputId": "8c593607-83f3-4c5e-943c-f9744e8a7fc3"
      },
      "execution_count": 19,
      "outputs": [
        {
          "output_type": "stream",
          "name": "stdout",
          "text": [
            "Enter word: live\n",
            "Enter another word: evil\n",
            "Those strings are anagrams.\n"
          ]
        }
      ]
    },
    {
      "cell_type": "markdown",
      "source": [
        "**Hard 2**"
      ],
      "metadata": {
        "id": "ER0g9A3L31ib"
      }
    },
    {
      "cell_type": "code",
      "source": [
        "dic = {'1': '.,?!:', '2': 'ABC', '3': 'DEF', '4': 'GHI', '5': 'JKL', '6': 'MNO', '7': 'PQRS', '8': 'TUV', '9': 'WXYZ', '0': ' '}\n",
        "inp = input('Enter the string: ')\n",
        "inp = inp.upper()\n",
        "for i in inp:\n",
        "  for j in dic:\n",
        "    for k in dic[j]:\n",
        "      if k == i:\n",
        "        idx = dic[j].index(k)\n",
        "        for p in range(idx+1):\n",
        "          print(j, end = '')"
      ],
      "metadata": {
        "colab": {
          "base_uri": "https://localhost:8080/"
        },
        "id": "aX6S23NVSuRu",
        "outputId": "f00f7167-f249-47b8-b189-f270db9ed340"
      },
      "execution_count": 20,
      "outputs": [
        {
          "output_type": "stream",
          "name": "stdout",
          "text": [
            "Enter the string: Hello, World!\n",
            "4433555555666110966677755531111"
          ]
        }
      ]
    }
  ]
}
