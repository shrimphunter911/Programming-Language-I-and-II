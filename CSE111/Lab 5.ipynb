{
  "nbformat": 4,
  "nbformat_minor": 0,
  "metadata": {
    "colab": {
      "provenance": []
    },
    "kernelspec": {
      "name": "python3",
      "display_name": "Python 3"
    },
    "language_info": {
      "name": "python"
    }
  },
  "cells": [
    {
      "cell_type": "markdown",
      "source": [
        "**Question 1**"
      ],
      "metadata": {
        "id": "5hGQLNgVB7dQ"
      }
    },
    {
      "cell_type": "code",
      "source": [
        "class DataType:\n",
        "  def __init__(self, name, value):\n",
        "    self.name = name\n",
        "    self.value = value\n",
        "data_type1 = DataType('Integer', 1234)\n",
        "print(data_type1.name)\n",
        "print(data_type1.value)\n",
        "print('=====================')\n",
        "data_type2 = DataType('String', 'Hello')\n",
        "print(data_type2.name)\n",
        "print(data_type2.value)\n",
        "print('=====================')\n",
        "data_type3 = DataType('Float', 4.0)\n",
        "print(data_type3.name)\n",
        "print(data_type3.value)"
      ],
      "metadata": {
        "id": "Jrk0fLXsHDgE",
        "colab": {
          "base_uri": "https://localhost:8080/"
        },
        "outputId": "f1f01c7d-e0fe-439a-c52a-aa041ff5378f"
      },
      "execution_count": null,
      "outputs": [
        {
          "output_type": "stream",
          "name": "stdout",
          "text": [
            "Integer\n",
            "1234\n",
            "=====================\n",
            "String\n",
            "Hello\n",
            "=====================\n",
            "Float\n",
            "4.0\n"
          ]
        }
      ]
    },
    {
      "cell_type": "markdown",
      "source": [
        "**Question 2**"
      ],
      "metadata": {
        "id": "5QOQbIHkIDc5"
      }
    },
    {
      "cell_type": "code",
      "source": [
        "class Flower:\n",
        "  def __init__(self):\n",
        "    self.name = 'name'\n",
        "    self.color = 'color'\n",
        "    self.num_of_petal = 0\n",
        "flower1 = Flower();\n",
        "flower1.name=\"Rose\"\n",
        "flower1.color=\"Red\"\n",
        "flower1.num_of_petal=6\n",
        "print(\"Name of this flower:\", flower1.name)\n",
        "print(\"Color of this flower:\",flower1.color)\n",
        "print(\"Number of petal:\",flower1.num_of_petal)\n",
        "print(\"=====================\")\n",
        "flower2 = Flower()\n",
        "flower2.name=\"Orchid\"\n",
        "flower2.color=\"Purple\"\n",
        "flower2.num_of_petal=4\n",
        "print(\"Name of this flower:\",flower2.name)\n",
        "print(\"Color of this flower:\",flower2.color)\n",
        "print (\"Number of petal:\",flower2. num_of_petal)\n",
        "print(flower1)\n",
        "print(flower2)\n",
        "print('they are different')"
      ],
      "metadata": {
        "colab": {
          "base_uri": "https://localhost:8080/"
        },
        "id": "_X8cpOIUCobg",
        "outputId": "4ed0f61c-f02e-4566-9831-da55d92b75d8"
      },
      "execution_count": null,
      "outputs": [
        {
          "output_type": "stream",
          "name": "stdout",
          "text": [
            "Name of this flower: Rose\n",
            "Color of this flower: Red\n",
            "Number of petal: 6\n",
            "=====================\n",
            "Name of this flower: Orchid\n",
            "Color of this flower: Purple\n",
            "Number of petal: 4\n",
            "<__main__.Flower object at 0x7f0c5ab3dc10>\n",
            "<__main__.Flower object at 0x7f0c5ab3d650>\n",
            "they are different\n"
          ]
        }
      ]
    },
    {
      "cell_type": "markdown",
      "source": [
        "**Question 3**"
      ],
      "metadata": {
        "id": "CifmBK0mRrZq"
      }
    },
    {
      "cell_type": "code",
      "source": [
        "class Wadiya():\n",
        "  def __init__(self):\n",
        "    self.name = 'Aladeen'\n",
        "    self.designation = 'President Prime Minister Admiral General'\n",
        "    self.num_of_wife = 100\n",
        "    self.dictator = True\n",
        "wadiya = Wadiya()\n",
        "print('Part 1:')\n",
        "print('Name of President:', wadiya.name)\n",
        "print('Designation:', wadiya.designation)\n",
        "print('Number of wife:', wadiya.num_of_wife)\n",
        "print('Is he/she a dictator:', wadiya.dictator)\n",
        "wadiya.name = 'Donald Trump'\n",
        "wadiya.designation = 'President'\n",
        "wadiya.num_of_wife = 1\n",
        "wadiya.dictator = False\n",
        "print('Part 2:')\n",
        "print('Name of President:', wadiya.name)\n",
        "print('Designation:', wadiya.designation)\n",
        "print('Number of wife:', wadiya.num_of_wife)\n",
        "print('Is he/she a dictator:', wadiya.dictator)\n",
        "print('previous information lost')"
      ],
      "metadata": {
        "colab": {
          "base_uri": "https://localhost:8080/"
        },
        "id": "OSoaQsyVNvWa",
        "outputId": "74bfc041-6757-43dc-f332-112bf79c999a"
      },
      "execution_count": null,
      "outputs": [
        {
          "output_type": "stream",
          "name": "stdout",
          "text": [
            "Part 1:\n",
            "Name of President: Aladeen\n",
            "Designation: President Prime Minister Admiral General\n",
            "Number of wife: 100\n",
            "Is he/she a dictator: True\n",
            "Part 2:\n",
            "Name of President: Donald Trump\n",
            "Designation: President\n",
            "Number of wife: 1\n",
            "Is he/she a dictator: False\n",
            "previous information lost\n"
          ]
        }
      ]
    },
    {
      "cell_type": "markdown",
      "source": [
        "**Question 4**"
      ],
      "metadata": {
        "id": "Mjlpt5qbUK4t"
      }
    },
    {
      "cell_type": "code",
      "source": [
        "class Joker:\n",
        "  def __init__(self, n, p, psy):\n",
        "    self.name = n\n",
        "    self.power = p\n",
        "    self.is_he_psycho = psy\n",
        "\n",
        "j1 = Joker('Heath Ledger', 'Mind Game', False)\n",
        "print(j1.name)\n",
        "print(j1.power)\n",
        "print(j1.is_he_psycho)\n",
        "print(\"=====================\")\n",
        "j2 = Joker('Joaquin Phoenix', 'Laughing out Loud', True)\n",
        "print(j2.name)\n",
        "print(j2.power)\n",
        "print(j2.is_he_psycho)\n",
        "print(\"=====================\")\n",
        "if j1 == j2:\n",
        "  print('same')\n",
        "else:\n",
        "  print('different')\n",
        "j2.name = 'Heath Ledger'\n",
        "if j1.name == j2.name:\n",
        "  print('same')\n",
        "else:\n",
        "  print('different')\n",
        "\n",
        "print('The first if/else block prints the output as different\\n because the memory location of j1 and j2 is not same')\n",
        "print('The second if/else block prints the output as same\\n because the name instance variable value of j1 and j2 are not different')"
      ],
      "metadata": {
        "colab": {
          "base_uri": "https://localhost:8080/"
        },
        "id": "kCJW3-UAUQJh",
        "outputId": "947ed70f-58ec-4981-dbef-8118a571bb43"
      },
      "execution_count": null,
      "outputs": [
        {
          "output_type": "stream",
          "name": "stdout",
          "text": [
            "Heath Ledger\n",
            "Mind Game\n",
            "False\n",
            "=====================\n",
            "Joaquin Phoenix\n",
            "Laughing out Loud\n",
            "True\n",
            "=====================\n",
            "different\n",
            "same\n",
            "The first if/else block prints the output as different\n",
            " because the memory location of j1 and j2 is not same\n",
            "The second if/else block prints the output as same\n",
            " because the name instance variable value of j1 and j2 are not different\n"
          ]
        }
      ]
    },
    {
      "cell_type": "markdown",
      "source": [
        "**Question 5**"
      ],
      "metadata": {
        "id": "LquxQWH5Ubwd"
      }
    },
    {
      "cell_type": "code",
      "source": [
        "class Pokemon:\n",
        "  def __init__(self, pn1, pn2, pp1, pp2, dmg):\n",
        "    self.pokemon1_name = pn1\n",
        "    self.pokemon2_name = pn2\n",
        "    self.pokemon1_power = pp1\n",
        "    self.pokemon2_power = pp2\n",
        "    self.damage_rate = dmg\n",
        "\n",
        "team_pika = Pokemon('pikachu', 'charmander', 90, 60, 10)\n",
        "print('=======Team 1=======')\n",
        "print('Pokemon 1:',team_pika.pokemon1_name,\n",
        "team_pika.pokemon1_power)\n",
        "print('Pokemon 2:',team_pika.pokemon2_name,\n",
        "team_pika.pokemon2_power)\n",
        "pika_combined_power = (team_pika.pokemon1_power +\n",
        "team_pika.pokemon2_power) * team_pika.damage_rate\n",
        "print('Combined Power:', pika_combined_power)\n",
        "\n",
        "team_bulb = Pokemon('bulbasaur', 'squirtle', 80, 70, 9)\n",
        "print('=======Team 2=======')\n",
        "print('Pokemon 1:',team_bulb.pokemon1_name,\n",
        "team_bulb.pokemon1_power)\n",
        "print('Pokemon 2:',team_bulb.pokemon2_name,\n",
        "team_bulb.pokemon2_power)\n",
        "bulb_combined_power = (team_bulb.pokemon1_power +\n",
        "team_bulb.pokemon2_power) * team_bulb.damage_rate\n",
        "print('Combined Power:', bulb_combined_power)"
      ],
      "metadata": {
        "colab": {
          "base_uri": "https://localhost:8080/"
        },
        "id": "bajoCgjpQ7UF",
        "outputId": "147a161c-1d0f-424b-97e4-02463c0407c2"
      },
      "execution_count": 5,
      "outputs": [
        {
          "output_type": "stream",
          "name": "stdout",
          "text": [
            "=======Team 1=======\n",
            "Pokemon 1: pikachu 90\n",
            "Pokemon 2: charmander 60\n",
            "Combined Power: 1500\n",
            "=======Team 2=======\n",
            "Pokemon 1: bulbasaur 80\n",
            "Pokemon 2: squirtle 70\n",
            "Combined Power: 1350\n"
          ]
        }
      ]
    }
  ]
}