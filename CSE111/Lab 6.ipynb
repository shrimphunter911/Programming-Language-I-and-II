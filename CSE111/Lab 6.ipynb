{
  "nbformat": 4,
  "nbformat_minor": 0,
  "metadata": {
    "colab": {
      "provenance": []
    },
    "kernelspec": {
      "name": "python3",
      "display_name": "Python 3"
    },
    "language_info": {
      "name": "python"
    }
  },
  "cells": [
    {
      "cell_type": "markdown",
      "source": [
        "**Using dispatch**"
      ],
      "metadata": {
        "id": "b92G_YJ6I9-c"
      }
    },
    {
      "cell_type": "code",
      "execution_count": null,
      "metadata": {
        "colab": {
          "base_uri": "https://localhost:8080/"
        },
        "id": "Z5tGePdpwTra",
        "outputId": "ab41027e-346b-4d51-d199-8574e91cf680"
      },
      "outputs": [
        {
          "output_type": "stream",
          "name": "stdout",
          "text": [
            "6\n",
            "24\n"
          ]
        }
      ],
      "source": [
        "from multipledispatch import dispatch\n",
        "class calc:\n",
        "\n",
        "  @dispatch(int, int)\n",
        "  def product(self, a, b):\n",
        "    print(a*b)\n",
        "\n",
        "  @dispatch(int, int, int)\n",
        "  def product(self, a, b, c):\n",
        "    print(a*b*c)\n",
        "\n",
        "cal = calc()\n",
        "cal.product(2, 3)\n",
        "cal.product(2, 3, 4)"
      ]
    },
    {
      "cell_type": "markdown",
      "source": [
        "**Question 1**"
      ],
      "metadata": {
        "id": "aiiJuYmAQ33D"
      }
    },
    {
      "cell_type": "code",
      "source": [
        "class Calculator:\n",
        "  def __init__(self):\n",
        "    print('Let’s Calculate!')\n",
        "  def add(self, x, y):\n",
        "    self.x = x\n",
        "    self.y = y\n",
        "    print('Result:', self.x + self.y)\n",
        "  def subtract(self, x, y):\n",
        "    self.x = x\n",
        "    self.y = y\n",
        "    print('Result:', self.x - self.y)\n",
        "  def multiply(self, x, y):\n",
        "    self.x = x\n",
        "    self.y = y\n",
        "    print('Result:', self.x * self.y)\n",
        "  def divide(self, x, y):\n",
        "    self.x = x\n",
        "    self.y = y\n",
        "    print('Result:', self.x / self.y)\n",
        "calc = Calculator()\n",
        "val1 = int(input('Value 1: '))\n",
        "op = input('Operator: ')\n",
        "val2 = int(input('Value 2: '))\n",
        "if op == '+':\n",
        "  calc.add(val1, val2)\n",
        "elif op == '-':\n",
        "  calc.subtract(val1, val2)\n",
        "elif op == '*':\n",
        "  calc.multiply(val1, val2)\n",
        "elif op == '/':\n",
        "  calc.divide(val1, val2)\n",
        "else:\n",
        "  print('Error')"
      ],
      "metadata": {
        "colab": {
          "base_uri": "https://localhost:8080/"
        },
        "id": "aEhTde-mJcSe",
        "outputId": "3c230360-3418-453a-8ff2-880fd37a6ea4"
      },
      "execution_count": null,
      "outputs": [
        {
          "output_type": "stream",
          "name": "stdout",
          "text": [
            "Let’s Calculate!\n",
            "Value 1: 4\n",
            "Operator: -\n",
            "Value 2: 1\n",
            "Result: 3\n"
          ]
        }
      ]
    },
    {
      "cell_type": "markdown",
      "source": [
        "**Question 2**"
      ],
      "metadata": {
        "id": "W7rHaMT4oqIo"
      }
    },
    {
      "cell_type": "code",
      "source": [
        "class Customer:\n",
        "  def __init__(self, name):\n",
        "    self.name = name\n",
        "  def greet(self, name = None):\n",
        "    if name != None:\n",
        "      print('Hello', name + '!')\n",
        "    else:\n",
        "      print('Hello!')\n",
        "  def purchase(self, *product):\n",
        "    print(self.name + ', you purchased', len(product), 'items')\n",
        "    for i in product:\n",
        "      print(i)\n",
        "\n",
        "customer_1 = Customer(\"Sam\")\n",
        "customer_1.greet()\n",
        "customer_1.purchase(\"chips\", \"chocolate\", \"orange juice\")\n",
        "print(\"-----------------------------\")\n",
        "customer_2 = Customer(\"David\")\n",
        "customer_2.greet(\"David\")\n",
        "customer_2.purchase(\"orange juice\")"
      ],
      "metadata": {
        "colab": {
          "base_uri": "https://localhost:8080/"
        },
        "id": "cvp7q_PyjEyz",
        "outputId": "3db888be-df3b-4aba-f8a4-c4fe7e0562f7"
      },
      "execution_count": null,
      "outputs": [
        {
          "output_type": "stream",
          "name": "stdout",
          "text": [
            "Hello!\n",
            "Sam, you purchased 3 items\n",
            "chips\n",
            "chocolate\n",
            "orange juice\n",
            "-----------------------------\n",
            "Hello David!\n",
            "David, you purchased 1 items\n",
            "orange juice\n"
          ]
        }
      ]
    },
    {
      "cell_type": "markdown",
      "source": [
        "**Question 3**"
      ],
      "metadata": {
        "id": "OlUZy-q5-th6"
      }
    },
    {
      "cell_type": "code",
      "source": [
        "class Panda:\n",
        "  def __init__(self, name, gender, age):\n",
        "    self.name = name\n",
        "    self.gender = gender\n",
        "    self.age = age\n",
        "  def sleep(self, hours=None):\n",
        "    if hours != None and 3 <= hours <= 5:\n",
        "      return (self.name + ' sleeps ' + str(hours) + ' hours daily and should have Mixed Veggies')\n",
        "    elif hours != None and 6 <= hours <= 8:\n",
        "      return (self.name + ' sleeps ' + str(hours) + ' hours daily and should have Eggplant & Tofu')\n",
        "    elif hours != None and 9 <= hours <= 11:\n",
        "      return (self.name + ' sleeps ' + str(hours) + ' hours daily and should have Broccoli Chicken')\n",
        "    elif hours == None:\n",
        "      return (self.name + '\\'s duration is unknown thus should have only bamboo leaves')\n",
        "\n",
        "panda1 = Panda(\"Kunfu\",\"Male\", 5)\n",
        "panda2=Panda(\"Pan Pan\",\"Female\",3)\n",
        "panda3=Panda(\"Ming Ming\",\"Female\",8)\n",
        "print(\"{} is a {} Panda Bear who is {} years old\".format(panda1.name,panda1.gender,panda1.age))\n",
        "print(\"{} is a {} Panda Bear who is {} years old\".format(panda2.name,panda2.gender,panda2.age))\n",
        "print(\"{} is a {} Panda Bear who is {} years old\".format(panda3.name,panda3.gender,panda3.age))\n",
        "\n",
        "print(panda2.sleep(10))\n",
        "print(panda1.sleep(4))\n",
        "print(panda3.sleep())"
      ],
      "metadata": {
        "colab": {
          "base_uri": "https://localhost:8080/"
        },
        "id": "bZDKbsEkxzey",
        "outputId": "deb5fbb2-3844-41db-983b-9d7450d436eb"
      },
      "execution_count": 15,
      "outputs": [
        {
          "output_type": "stream",
          "name": "stdout",
          "text": [
            "Kunfu is a Male Panda Bear who is 5 years old\n",
            "Pan Pan is a Female Panda Bear who is 3 years old\n",
            "Ming Ming is a Female Panda Bear who is 8 years old\n",
            "Pan Pan sleeps 10 hours daily and should have Broccoli Chicken\n",
            "Kunfu sleeps 4 hours daily and should have Mixed Veggies\n",
            "Ming Ming's duration is unknown thus should have only bamboo leaves\n"
          ]
        }
      ]
    },
    {
      "cell_type": "markdown",
      "source": [
        "**Question 4**"
      ],
      "metadata": {
        "id": "x0ocVDVRAtXT"
      }
    },
    {
      "cell_type": "code",
      "source": [
        "class Cat:\n",
        "  def __init__(self, color = 'White', action = 'sitting'):\n",
        "    self.color = color\n",
        "    self.action = action\n",
        "  def printCat(self):\n",
        "    print(self.color, 'cat is', self.action)\n",
        "  def changeColor(self, chng):\n",
        "    self.color = chng\n",
        "\n",
        "c1 = Cat()\n",
        "c2 = Cat(\"Black\")\n",
        "c3 = Cat(\"Brown\", \"jumping\")\n",
        "c4 = Cat(\"Red\", \"purring\")\n",
        "c1.printCat()\n",
        "c2.printCat()\n",
        "c3.printCat()\n",
        "c4.printCat()\n",
        "c1.changeColor(\"Blue\")\n",
        "c3.changeColor(\"Purple\")\n",
        "c1.printCat()\n",
        "c3.printCat()"
      ],
      "metadata": {
        "colab": {
          "base_uri": "https://localhost:8080/"
        },
        "id": "K6dBvJ6Z-yzj",
        "outputId": "6b89111d-3f24-46d0-d9d8-663080eb1ce8"
      },
      "execution_count": 19,
      "outputs": [
        {
          "output_type": "stream",
          "name": "stdout",
          "text": [
            "White cat is sitting\n",
            "Black cat is sitting\n",
            "Brown cat is jumping\n",
            "Red cat is purring\n",
            "Blue cat is sitting\n",
            "Purple cat is jumping\n"
          ]
        }
      ]
    },
    {
      "cell_type": "markdown",
      "source": [
        "**Question 5**"
      ],
      "metadata": {
        "id": "Q8qYon7UI3Pr"
      }
    },
    {
      "cell_type": "code",
      "source": [
        "class Vehicle:\n",
        "  def __init__(self):\n",
        "    self.x = 0\n",
        "    self.y = 0\n",
        "  def moveUp(self):\n",
        "    self.y = self.y + 1\n",
        "  def moveDown(self):\n",
        "    self.y = self.y - 1\n",
        "  def moveLeft(self):\n",
        "    self.x = self.x - 1\n",
        "  def moveRight(self):\n",
        "    self.x = self.x + 1\n",
        "  def print_position(self):\n",
        "    print('(' + str(self.x) + ',' + str(self.y) + ')')\n",
        "\n",
        "car = Vehicle()\n",
        "car.print_position()\n",
        "car.moveUp()\n",
        "car.print_position()\n",
        "car.moveLeft()\n",
        "car.print_position()\n",
        "car.moveDown()\n",
        "car.print_position()\n",
        "car.moveRight()"
      ],
      "metadata": {
        "colab": {
          "base_uri": "https://localhost:8080/"
        },
        "id": "CpwDWj0eGUyH",
        "outputId": "899f559a-7fab-45e8-eda1-fabbfad784d3"
      },
      "execution_count": 23,
      "outputs": [
        {
          "output_type": "stream",
          "name": "stdout",
          "text": [
            "(0,0)\n",
            "(0,1)\n",
            "(-1,1)\n",
            "(-1,0)\n"
          ]
        }
      ]
    }
  ]
}