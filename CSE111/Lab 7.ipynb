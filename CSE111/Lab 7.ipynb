{
  "nbformat": 4,
  "nbformat_minor": 0,
  "metadata": {
    "colab": {
      "provenance": []
    },
    "kernelspec": {
      "name": "python3",
      "display_name": "Python 3"
    },
    "language_info": {
      "name": "python"
    }
  },
  "cells": [
    {
      "cell_type": "code",
      "execution_count": null,
      "metadata": {
        "colab": {
          "base_uri": "https://localhost:8080/"
        },
        "id": "TxJjjZLjELZb",
        "outputId": "584c9819-7ac8-4dc0-d7fe-8157577a50f4"
      },
      "outputs": [
        {
          "output_type": "stream",
          "name": "stdout",
          "text": [
            "30\n"
          ]
        }
      ],
      "source": [
        "class sum:\n",
        "  def __init__(self, a):\n",
        "    self.one = a\n",
        "  def __add__(self, b):\n",
        "    return self.one + b.one\n",
        "\n",
        "num1 = sum(10)\n",
        "num2 = sum(20)\n",
        "\n",
        "print(num1 + num2)"
      ]
    },
    {
      "cell_type": "code",
      "source": [
        "class Equal:\n",
        "  def __init__(self, a):\n",
        "    self.one = a\n",
        "  def __eq__(self, b):\n",
        "    if self.one == b.one:\n",
        "      return True\n",
        "    else:\n",
        "      return False\n",
        "\n",
        "num1 = Equal(12)\n",
        "num2 = Equal(10)\n",
        "print(num1 == num2)"
      ],
      "metadata": {
        "colab": {
          "base_uri": "https://localhost:8080/"
        },
        "id": "bfUSF98SNFTT",
        "outputId": "286f4866-836d-4e8e-d6e3-4359708f03b4"
      },
      "execution_count": null,
      "outputs": [
        {
          "output_type": "stream",
          "name": "stdout",
          "text": [
            "False\n"
          ]
        }
      ]
    },
    {
      "cell_type": "code",
      "source": [
        "class Catto:\n",
        "  def __init__(self, color, behavior):\n",
        "    self.color = color\n",
        "    self.char = behavior\n",
        "  def eq(self, cat):\n",
        "    if self.char == cat.char:\n",
        "      print('They are siblings')\n",
        "    else:\n",
        "      print('Opposite attract')\n",
        "\n",
        "  def racist(self, kitty):\n",
        "    if self.color == kitty.color:\n",
        "      print('Bully')\n",
        "    else:\n",
        "      print('Racist')\n",
        "\n",
        "mini = Catto('brown', 'naughty')\n",
        "misaki = Catto('white', 'calm')\n",
        "yoshi = Catto('white', 'naughty')\n",
        "\n",
        "mini.eq(yoshi)\n",
        "mini.racist(misaki)\n",
        "misaki.racist(yoshi)"
      ],
      "metadata": {
        "colab": {
          "base_uri": "https://localhost:8080/"
        },
        "id": "U6mXi-IYOFBC",
        "outputId": "ca691250-2eb3-46c8-e7b2-bcdc4e000c7b"
      },
      "execution_count": null,
      "outputs": [
        {
          "output_type": "stream",
          "name": "stdout",
          "text": [
            "They are siblings\n",
            "Racist\n",
            "Bully\n"
          ]
        }
      ]
    },
    {
      "cell_type": "markdown",
      "source": [
        "**Question 1**"
      ],
      "metadata": {
        "id": "L15lIRiwlW16"
      }
    },
    {
      "cell_type": "code",
      "source": [
        "class Student:\n",
        "  ID = 0\n",
        "  def __init__(self, name, dept, age, cgpa):\n",
        "    self.name = name\n",
        "    self.dept = dept\n",
        "    self.age = age\n",
        "    self.cgpa = cgpa\n",
        "    Student.ID += 1\n",
        "  def get_details(self):\n",
        "    print('ID:', self.ID)\n",
        "    print('Name:', self.name)\n",
        "    print('Department:', self.dept)\n",
        "    print('Age:', self.age)\n",
        "    print('CGPA:', self.cgpa)\n",
        "  @classmethod\n",
        "  def from_String(cls, txt):\n",
        "    name, dept, age, cgpa = txt.split('-')\n",
        "    stud = cls(name, dept, age, cgpa)\n",
        "    return stud\n",
        "\n",
        "s1 = Student(\"Samin\", \"CSE\", 21, 3.91)\n",
        "s1.get_details()\n",
        "print(\"-----------------------\")\n",
        "s2 = Student(\"Fahim\", \"ECE\", 21, 3.85)\n",
        "s2.get_details()\n",
        "print(\"-----------------------\")\n",
        "s3 = Student(\"Tahura\", \"EEE\", 22, 3.01)\n",
        "s3.get_details()\n",
        "print(\"-----------------------\")\n",
        "s4 = Student.from_String(\"Sumaiya-BBA-23-3.96\")\n",
        "s4.get_details()\n",
        "\n",
        "print('5. Class variables can only be assigned when a class has been defined. Instance variables, on the other hand, can be assigned or changed at any time.')\n",
        "print('6. Instance methods need a class instance and can access the instance through self. Class methods don\\'t need a Class instance. They can\\'t access the instance self but they have access to the class itself via cls.')"
      ],
      "metadata": {
        "colab": {
          "base_uri": "https://localhost:8080/"
        },
        "id": "w8HYRCHfhkQM",
        "outputId": "0bd71290-d00e-4e56-d9dd-6bb418b914fd"
      },
      "execution_count": null,
      "outputs": [
        {
          "output_type": "stream",
          "name": "stdout",
          "text": [
            "ID: 1\n",
            "Name: Samin\n",
            "Department: CSE\n",
            "Age: 21\n",
            "CGPA: 3.91\n",
            "-----------------------\n",
            "ID: 2\n",
            "Name: Fahim\n",
            "Department: ECE\n",
            "Age: 21\n",
            "CGPA: 3.85\n",
            "-----------------------\n",
            "ID: 3\n",
            "Name: Tahura\n",
            "Department: EEE\n",
            "Age: 22\n",
            "CGPA: 3.01\n",
            "-----------------------\n",
            "ID: 4\n",
            "Name: Sumaiya\n",
            "Department: BBA\n",
            "Age: 23\n",
            "CGPA: 3.96\n",
            "5. Class variables can only be assigned when a class has been defined. Instance variables, on the other hand, can be assigned or changed at any time.\n",
            "6. Instance methods need a class instance and can access the instance through self. Class methods don't need a Class instance. They can't access the instance self but they have access to the class itself via cls.\n"
          ]
        }
      ]
    },
    {
      "cell_type": "markdown",
      "source": [
        "**Question 2**"
      ],
      "metadata": {
        "id": "2flglW7qvbMm"
      }
    },
    {
      "cell_type": "code",
      "source": [
        "class Teacher:\n",
        "  def __init__(self, name, dept):\n",
        "    self.__name = name\n",
        "    self.__dept = dept\n",
        "    self.__course = []\n",
        "  def addCourse(self, c):\n",
        "    self.__course.append(c.course)\n",
        "  def printDetail(self):\n",
        "    print('====================================')\n",
        "    print('Name:', self.__name)\n",
        "    print('Department:', self.__dept)\n",
        "    print('List of courses')\n",
        "    print('====================================')\n",
        "    for i in self.__course:\n",
        "      print(i)\n",
        "    print('====================================')\n",
        "\n",
        "class Course:\n",
        "  def __init__(self, course):\n",
        "    self.course = course\n",
        "\n",
        "t1 = Teacher(\"Saad Abdullah\", \"CSE\")\n",
        "t2 = Teacher(\"Mumit Khan\", \"CSE\")\n",
        "t3 = Teacher(\"Sadia Kazi\", \"CSE\")\n",
        "c1 = Course(\"CSE 110 Programming Language I\")\n",
        "c2 = Course(\"CSE 111 Programming Language-II\")\n",
        "c3 = Course(\"CSE 220 Data Structures\")\n",
        "c4 = Course(\"CSE 221 Algorithms\")\n",
        "c5 = Course(\"CCSE 230 Discrete Mathematics\")\n",
        "c6 = Course(\"CSE 310 Object Oriented Programming\")\n",
        "c7 = Course(\"CSE 320 Data Communications\")\n",
        "c8 = Course(\"CSE 340 Computer Architecture\")\n",
        "t1.addCourse(c1)\n",
        "t1.addCourse(c2)\n",
        "t2.addCourse(c3)\n",
        "t2.addCourse(c4)\n",
        "t2.addCourse(c5)\n",
        "t3.addCourse(c6)\n",
        "t3.addCourse(c7)\n",
        "t3.addCourse(c8)\n",
        "t1.printDetail()\n",
        "t2.printDetail()\n",
        "t3.printDetail()"
      ],
      "metadata": {
        "colab": {
          "base_uri": "https://localhost:8080/"
        },
        "id": "bHW5PlSypZ7z",
        "outputId": "08f4c5d2-ccc9-4075-a38f-68d70b8406a7"
      },
      "execution_count": null,
      "outputs": [
        {
          "output_type": "stream",
          "name": "stdout",
          "text": [
            "====================================\n",
            "Name: Saad Abdullah\n",
            "Department: CSE\n",
            "List of courses\n",
            "====================================\n",
            "CSE 110 Programming Language I\n",
            "CSE 111 Programming Language-II\n",
            "====================================\n",
            "====================================\n",
            "Name: Mumit Khan\n",
            "Department: CSE\n",
            "List of courses\n",
            "====================================\n",
            "CSE 220 Data Structures\n",
            "CSE 221 Algorithms\n",
            "CCSE 230 Discrete Mathematics\n",
            "====================================\n",
            "====================================\n",
            "Name: Sadia Kazi\n",
            "Department: CSE\n",
            "List of courses\n",
            "====================================\n",
            "CSE 310 Object Oriented Programming\n",
            "CSE 320 Data Communications\n",
            "CSE 340 Computer Architecture\n",
            "====================================\n"
          ]
        }
      ]
    },
    {
      "cell_type": "markdown",
      "source": [
        "**Question 3**"
      ],
      "metadata": {
        "id": "D66XHk30z08O"
      }
    },
    {
      "cell_type": "code",
      "source": [
        "class Dates:\n",
        "  def __init__(self, date):\n",
        "    self.__date = date\n",
        "\n",
        "  def getDate(self):\n",
        "    return self.__date\n",
        "\n",
        "  @classmethod\n",
        "  def toDashDate(cls, txt):\n",
        "    date = cls(txt.replace('/', '-'))\n",
        "    return date\n",
        "\n",
        "date1 = Dates(\"05-09-2020\")\n",
        "dateFromDB = \"05/09/2020\"\n",
        "date2= Dates.toDashDate(dateFromDB)\n",
        "if(date1.getDate() == date2.getDate() ):\n",
        "  print(\"Equal\")\n",
        "else:\n",
        "  print(\"Unequal\")\n",
        "\n",
        "print('The date is same')"
      ],
      "metadata": {
        "colab": {
          "base_uri": "https://localhost:8080/"
        },
        "id": "qFHjPeervfhS",
        "outputId": "f103764e-bc73-473e-b117-9f3ea353a472"
      },
      "execution_count": null,
      "outputs": [
        {
          "output_type": "stream",
          "name": "stdout",
          "text": [
            "Equal\n",
            "The date is same\n"
          ]
        }
      ]
    },
    {
      "cell_type": "markdown",
      "source": [
        "**Question 4**"
      ],
      "metadata": {
        "id": "uryVplu92a36"
      }
    },
    {
      "cell_type": "code",
      "source": [
        "class Circle:\n",
        "  def __init__(self, radius):\n",
        "    self.__radius = radius\n",
        "  def getRadius(self):\n",
        "    return self.__radius\n",
        "  def setRadius(self, radius):\n",
        "    self.__radius = radius\n",
        "  def area(self):\n",
        "    area = 3.14159*self.__radius**2\n",
        "    return area\n",
        " \n",
        "  def __add__(self, c):\n",
        "    sum = Circle(self.__radius + c.__radius)\n",
        "    return sum\n",
        "\n",
        "c1 = Circle(4)\n",
        "print(\"First circle radius:\" , c1.getRadius())\n",
        "print(\"First circle area:\" ,c1.area())\n",
        "c2 = Circle(5)\n",
        "print(\"Second circle radius:\" ,c2.getRadius())\n",
        "print(\"Second circle area:\" ,c2.area())\n",
        "c3 = c1 + c2\n",
        "print(\"Third circle radius:\" ,c3.getRadius())\n",
        "print(\"Third circle area:\" ,c3.area())"
      ],
      "metadata": {
        "colab": {
          "base_uri": "https://localhost:8080/"
        },
        "id": "5zVBj3IG2bQC",
        "outputId": "e40eb4a1-15af-48ec-f54f-b3699cc63f18"
      },
      "execution_count": null,
      "outputs": [
        {
          "output_type": "stream",
          "name": "stdout",
          "text": [
            "First circle radius: 4\n",
            "First circle area: 50.26544\n",
            "Second circle radius: 5\n",
            "Second circle area: 78.53975\n",
            "Third circle radius: 9\n",
            "Third circle area: 254.46878999999998\n"
          ]
        }
      ]
    },
    {
      "cell_type": "markdown",
      "source": [
        "**Question 5**"
      ],
      "metadata": {
        "id": "yLVeNPoumbch"
      }
    },
    {
      "cell_type": "code",
      "source": [
        "class Dolls:\n",
        "  def __init__(self, name, price):\n",
        "    self.name = name\n",
        "    self.price = price\n",
        "  def detail(self):\n",
        "    return 'Dolls: ' + self.name + '\\nTotal Price: ' + str(self.price) + ' taka'\n",
        "  def __add__(self, doll):\n",
        "    new_name = self.name + \" \" + doll.name\n",
        "    new_price = self.price + doll.price\n",
        "    doll = Dolls(new_name, new_price)\n",
        "    return doll\n",
        "  def __gt__(self, doll):\n",
        "    if self.price > doll.price:\n",
        "      return True\n",
        "    else:\n",
        "      return False\n",
        "\n",
        "obj_1 = Dolls(\"Tweety\", 2500)\n",
        "print(obj_1.detail())\n",
        "if obj_1 > obj_1:\n",
        "  print(\"Congratulations! You get the Tweety as a gift!\")\n",
        "else:\n",
        "  print(\"Thank you!\")\n",
        "print(\"=========================\")\n",
        "obj_2 = Dolls(\"Daffy Duck\", 1800)\n",
        "print(obj_2.detail())\n",
        "if obj_2 > obj_1:\n",
        "  print(\"Congratulations! You get the Tweety as a gift!\")\n",
        "else:\n",
        "  print(\"Thank you!\")\n",
        "print(\"=========================\")\n",
        "obj_3 = Dolls(\"Bugs Bunny\", 3000)\n",
        "print(obj_3.detail())\n",
        "if obj_3 > obj_1:\n",
        "  print(\"Congratulations! You get the Tweety as a gift!\")\n",
        "else:\n",
        "  print(\"Thank you!\")\n",
        "print(\"=========================\")\n",
        "obj_4 = Dolls(\"Porky Pig\", 1500)\n",
        "print(obj_4.detail())\n",
        "if obj_4 > obj_1:\n",
        "    print(\"Congratulations! You get the Tweety as a gift!\")\n",
        "else:\n",
        "  print(\"Thank you!\")\n",
        "print(\"=========================\")\n",
        "obj_5 = obj_2 + obj_3\n",
        "print(obj_5.detail())\n",
        "if obj_5 > obj_1:\n",
        "  print(\"Congratulations! You get the Tweety as a gift!\")\n",
        "else:\n",
        "  print(\"Thank you!\")"
      ],
      "metadata": {
        "colab": {
          "base_uri": "https://localhost:8080/"
        },
        "id": "S7r7x6uLbRIm",
        "outputId": "994589ce-507f-4aad-84d1-38f630a22756"
      },
      "execution_count": 10,
      "outputs": [
        {
          "output_type": "stream",
          "name": "stdout",
          "text": [
            "Dolls: Tweety\n",
            "Total Price: 2500 taka\n",
            "Thank you!\n",
            "=========================\n",
            "Dolls: Daffy Duck\n",
            "Total Price: 1800 taka\n",
            "Thank you!\n",
            "=========================\n",
            "Dolls: Bugs Bunny\n",
            "Total Price: 3000 taka\n",
            "Congratulations! You get the Tweety as a gift!\n",
            "=========================\n",
            "Dolls: Porky Pig\n",
            "Total Price: 1500 taka\n",
            "Thank you!\n",
            "=========================\n",
            "Dolls: Daffy Duck Bugs Bunny\n",
            "Total Price: 4800 taka\n",
            "Congratulations! You get the Tweety as a gift!\n"
          ]
        }
      ]
    }
  ]
}