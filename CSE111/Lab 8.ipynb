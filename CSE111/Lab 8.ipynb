{
  "nbformat": 4,
  "nbformat_minor": 0,
  "metadata": {
    "colab": {
      "provenance": []
    },
    "kernelspec": {
      "name": "python3",
      "display_name": "Python 3"
    },
    "language_info": {
      "name": "python"
    }
  },
  "cells": [
    {
      "cell_type": "markdown",
      "source": [
        "**Task - 1**"
      ],
      "metadata": {
        "id": "HLPpAAwRaI4z"
      }
    },
    {
      "cell_type": "code",
      "execution_count": 6,
      "metadata": {
        "colab": {
          "base_uri": "https://localhost:8080/"
        },
        "id": "toMMuSGNZQrn",
        "outputId": "94491629-2e49-43df-9502-b2579d238d80"
      },
      "outputs": [
        {
          "output_type": "stream",
          "name": "stdout",
          "text": [
            "Name: default Department: BBA\n",
            "Name: Humpty Dumpty Department: BBA\n",
            "Name: Little Bo Peep Department: BBA\n"
          ]
        }
      ],
      "source": [
        "class Student:\n",
        "  def __init__(self, name='Just a student', dept='nothing'):\n",
        "    self.__name = name\n",
        "    self.__department = dept\n",
        "  def set_department(self, dept):\n",
        "    self.__department = dept\n",
        "  def get_name(self):\n",
        "    return self.__name\n",
        "  def set_name(self,name):\n",
        "    self.__name = name\n",
        "  def __str__(self):\n",
        "    return 'Name: '+self.__name+' Department: '+self.__department\n",
        "\n",
        "class BBA_Student(Student):\n",
        "  def __init__(self, name = 'default'):\n",
        "    super().__init__(name)\n",
        "    super().set_department('BBA')\n",
        "\n",
        "print(BBA_Student())\n",
        "print(BBA_Student('Humpty Dumpty'))\n",
        "print(BBA_Student('Little Bo Peep'))"
      ]
    },
    {
      "cell_type": "markdown",
      "source": [
        "**Task - 2**"
      ],
      "metadata": {
        "id": "3m4AgNZXeNPE"
      }
    },
    {
      "cell_type": "code",
      "source": [
        "class Vehicle:\n",
        "  def __init__(self):\n",
        "    self.x = 0\n",
        "    self.y = 0\n",
        "  def moveUp(self):\n",
        "    self.y+=1\n",
        "  def moveDown(self):\n",
        "    self.y-=1\n",
        "  def moveRight(self):\n",
        "    self.x+=1\n",
        "  def moveLeft(self):\n",
        "    self.x-=1\n",
        "  def __str__(self):\n",
        "    return '('+str(self.x)+' , '+str(self.y)+')'\n",
        "class Vehicle2010(Vehicle):\n",
        "  def moveLowerLeft(self):\n",
        "    self.x -= 1\n",
        "    self.y -= 1\n",
        "  def equals(self, car):\n",
        "    if self.x == car.x and self.y == car.y:\n",
        "      return True\n",
        "    else:\n",
        "      return False\n",
        "\n",
        "print('Part 1')\n",
        "print('------')\n",
        "car = Vehicle()\n",
        "print(car)\n",
        "car.moveUp()\n",
        "print(car)\n",
        "car.moveLeft()\n",
        "print(car)\n",
        "car.moveDown()\n",
        "print(car)\n",
        "car.moveRight()\n",
        "print(car)\n",
        "print('------')\n",
        "print('Part 2')\n",
        "print('------')\n",
        "car1 = Vehicle2010()\n",
        "print(car1)\n",
        "car1.moveLowerLeft()\n",
        "print(car1)\n",
        "car2 = Vehicle2010()\n",
        "car2.moveLeft()\n",
        "print(car1.equals(car2))\n",
        "car2.moveDown()\n",
        "print(car1.equals(car2))\n",
        "print('------')"
      ],
      "metadata": {
        "colab": {
          "base_uri": "https://localhost:8080/"
        },
        "id": "4mXUOoiGeRzu",
        "outputId": "2b0cc26b-0ec2-4b5a-8910-8859b70848fa"
      },
      "execution_count": 9,
      "outputs": [
        {
          "output_type": "stream",
          "name": "stdout",
          "text": [
            "Part 1\n",
            "------\n",
            "(0 , 0)\n",
            "(0 , 1)\n",
            "(-1 , 1)\n",
            "(-1 , 0)\n",
            "(0 , 0)\n",
            "------\n",
            "Part 2\n",
            "------\n",
            "(0 , 0)\n",
            "(-1 , -1)\n",
            "False\n",
            "True\n",
            "------\n"
          ]
        }
      ]
    },
    {
      "cell_type": "markdown",
      "source": [
        "**Task - 3**"
      ],
      "metadata": {
        "id": "ag7EfmbEhtaf"
      }
    },
    {
      "cell_type": "code",
      "source": [
        "class RealNumber:\n",
        "  def __init__(self, r=0):\n",
        "    self.__realValue = r\n",
        "  def getRealValue(self):\n",
        "    return self.__realValue\n",
        "  def setRealValue(self, r):\n",
        "    self.__realValue = r\n",
        "  def ping(self):\n",
        "    print('I am in RealNumber class')\n",
        "  def __str__(self):\n",
        "    return 'RealPart: '+str(self.getRealValue())\n",
        "\n",
        "class ComplexNumber(RealNumber):\n",
        "  def __init__(self, r=1, i=1):\n",
        "    super().setRealValue(str(r)+'.0')\n",
        "    self.imaginary = str(i)+'.0'\n",
        "  def __str__(self):\n",
        "    return 'RealPart: '+str(self.getRealValue()) + '\\nImaginaryPart: '+str(self.imaginary)\n",
        "\n",
        "cn1 = ComplexNumber()\n",
        "print(cn1)\n",
        "print('---------')\n",
        "cn2 = ComplexNumber(5,7)\n",
        "print(cn2)\n",
        "print('---------')"
      ],
      "metadata": {
        "colab": {
          "base_uri": "https://localhost:8080/"
        },
        "id": "aURin3jfhx3w",
        "outputId": "fc98ebaf-4194-4e30-ef18-ff82582476b1"
      },
      "execution_count": 13,
      "outputs": [
        {
          "output_type": "stream",
          "name": "stdout",
          "text": [
            "RealPart: 1.0\n",
            "ImaginaryPart: 1.0\n",
            "---------\n",
            "RealPart: 5.0\n",
            "ImaginaryPart: 7.0\n",
            "---------\n"
          ]
        }
      ]
    },
    {
      "cell_type": "markdown",
      "source": [
        "**Task - 4**"
      ],
      "metadata": {
        "id": "kTCxuLQNntL5"
      }
    },
    {
      "cell_type": "code",
      "source": [
        "class Account:\n",
        "  def __init__(self,balance):\n",
        "    self._balance = balance\n",
        "  def getBalance(self):\n",
        "    return self._balance\n",
        "\n",
        "class CheckingAccount(Account):\n",
        "  c =0\n",
        "  numberOfAccount = str(c)\n",
        "  def __init__(self, balance = 0.0):\n",
        "    super().__init__(balance)\n",
        "    CheckingAccount.c += 1\n",
        "    CheckingAccount.numberOfAccount = str(CheckingAccount.c)\n",
        "  def __str__(self):\n",
        "    return 'Account Balance: '+ str(self.getBalance())\n",
        "\n",
        "print('Number of Checking Accounts: '+CheckingAccount.numberOfAccount)\n",
        "print(CheckingAccount())\n",
        "print(CheckingAccount(100.00))\n",
        "print(CheckingAccount(200.00))\n",
        "print('Number of Checking Accounts: '+CheckingAccount.numberOfAccount)"
      ],
      "metadata": {
        "colab": {
          "base_uri": "https://localhost:8080/"
        },
        "id": "38hmL_kvnz9h",
        "outputId": "1a3252df-c8e8-461b-c4bd-9683b5965a9f"
      },
      "execution_count": 28,
      "outputs": [
        {
          "output_type": "stream",
          "name": "stdout",
          "text": [
            "Number of Checking Accounts: 0\n",
            "Account Balance: 0.0\n",
            "Account Balance: 100.0\n",
            "Account Balance: 200.0\n",
            "Number of Checking Accounts: 3\n"
          ]
        }
      ]
    },
    {
      "cell_type": "markdown",
      "source": [
        "**Task - 5**"
      ],
      "metadata": {
        "id": "_glaWH3oxLVB"
      }
    },
    {
      "cell_type": "code",
      "source": [
        "class Animal:\n",
        "  def __init__(self,sound):\n",
        "    self.__sound = sound\n",
        "  def makeSound(self):\n",
        "    return self.__sound\n",
        "class Printer:\n",
        "  def printSound(self, a):\n",
        "    print(a.makeSound())\n",
        "class Dog(Animal):\n",
        "  pass\n",
        "class Cat(Animal):\n",
        "  pass\n",
        "\n",
        "d1 = Dog('bark')\n",
        "c1 = Cat('meow')\n",
        "a1 = Animal('Animal does not make sound')\n",
        "pr = Printer()\n",
        "pr.printSound(a1)\n",
        "pr.printSound(c1)\n",
        "pr.printSound(d1)"
      ],
      "metadata": {
        "colab": {
          "base_uri": "https://localhost:8080/"
        },
        "id": "ENULpt7-uFPI",
        "outputId": "317e48d3-df4d-44bf-b28c-105b73e21dc1"
      },
      "execution_count": 29,
      "outputs": [
        {
          "output_type": "stream",
          "name": "stdout",
          "text": [
            "Animal does not make sound\n",
            "meow\n",
            "bark\n"
          ]
        }
      ]
    },
    {
      "cell_type": "markdown",
      "source": [
        "**Task - 6**"
      ],
      "metadata": {
        "id": "yqwQLVsFxUC7"
      }
    },
    {
      "cell_type": "code",
      "source": [
        "class Fruit:\n",
        "  def __init__(self, formalin=False, name=''):\n",
        "    self.__formalin = formalin\n",
        "    self.name = name\n",
        "  def getName(self):\n",
        "    return self.name\n",
        "  def hasFormalin(self):\n",
        "    return self.__formalin\n",
        "class testFruit:\n",
        "  def test(self, f):\n",
        "    print('----Printing Detail----')\n",
        "    if f.hasFormalin():\n",
        "      print('Do not eat the',f.getName(),'.')\n",
        "      print(f)\n",
        "    else:\n",
        "      print('Eat the',f.getName(),'.')\n",
        "      print(f)\n",
        "class Mango(Fruit):\n",
        "  def __init__(self, name='Mango'):\n",
        "    self.name = name\n",
        "  def hasFormalin(self):\n",
        "    return True\n",
        "  def __str__(self):\n",
        "    return 'Mangos are bad for you'\n",
        "class Jackfruit(Fruit):\n",
        "  def __init__(self, name='Jackfruit'):\n",
        "    self.name = name\n",
        "  def hasFormalin(self):\n",
        "    return False\n",
        "  def __str__(self):\n",
        "    return 'Jackfruits are good for you'\n",
        "\n",
        "m = Mango()\n",
        "j = Jackfruit()\n",
        "t1 = testFruit()\n",
        "t1.test(m)\n",
        "t1.test(j)"
      ],
      "metadata": {
        "colab": {
          "base_uri": "https://localhost:8080/"
        },
        "id": "2CpuULTAxaZt",
        "outputId": "6b84dd74-9f17-48f6-e5ee-b2a6d6667726"
      },
      "execution_count": 40,
      "outputs": [
        {
          "output_type": "stream",
          "name": "stdout",
          "text": [
            "----Printing Detail----\n",
            "Do not eat the Mango .\n",
            "Mangos are bad for you\n",
            "----Printing Detail----\n",
            "Eat the Jackfruit .\n",
            "Jackfruits are good for you\n"
          ]
        }
      ]
    }
  ]
}